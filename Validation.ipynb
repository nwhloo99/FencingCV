{
 "cells": [
  {
   "cell_type": "code",
   "execution_count": 1,
   "id": "33d0404e",
   "metadata": {},
   "outputs": [],
   "source": [
    "import cv2\n",
    "from matplotlib import pyplot as plt\n",
    "import numpy as np\n",
    "import os\n",
    "import json"
   ]
  },
  {
   "cell_type": "code",
   "execution_count": 2,
   "id": "68f587f1",
   "metadata": {},
   "outputs": [],
   "source": [
    "os.chdir('./distancevalidation1/')\n",
    "\n",
    "f = open('alphapose-results.json')\n",
    "\n",
    "data = json.load(f)\n",
    "    \n",
    "f.close()"
   ]
  },
  {
   "cell_type": "code",
   "execution_count": 3,
   "id": "039deddc",
   "metadata": {},
   "outputs": [],
   "source": [
    "## Groups same frames together\n",
    "\n",
    "data_by_frames = []\n",
    "curr_frame = 0\n",
    "curr_kps = []\n",
    "\n",
    "for d in data:\n",
    "    if (d['image_id'] == (str(curr_frame) + '.jpg') ):\n",
    "        curr_kps.append(d)\n",
    "    else:\n",
    "        \n",
    "        data_by_frames.append(curr_kps.copy())\n",
    "        curr_kps.clear()\n",
    "        curr_kps.append(d)\n",
    "        curr_frame += 1"
   ]
  },
  {
   "cell_type": "code",
   "execution_count": 4,
   "id": "15ce1c7f",
   "metadata": {},
   "outputs": [
    {
     "name": "stdout",
     "output_type": "stream",
     "text": [
      "[(1087, 588), (1149, 716)]\n",
      "[(480, 618), (451, 759)]\n",
      "[(1620, 561), (1760, 678)]\n"
     ]
    }
   ],
   "source": [
    "cap = cv2.VideoCapture(\"AlphaPose_output.mp4\")\n",
    "\n",
    "ret, frame = cap.read()\n",
    "pisteLines = {}\n",
    "pisteLineIdentifiers = ['middleLines', 'leftEngardeLine', 'rightEngardeLine', 'leftWarningLine', 'rightWarningLine', 'leftEndLine', 'rightEndLine']\n",
    "curr = 0\n",
    "ptList = []\n",
    "\n",
    "def onMousePisteLines(event, x, y, flags, param):\n",
    "    global pisteLines\n",
    "    global pisteLineIdentifiers\n",
    "    global curr\n",
    "    global ptList\n",
    "    if event == cv2.EVENT_LBUTTONDOWN:\n",
    "        ptList.append((x, y))\n",
    "    elif event == cv2.EVENT_RBUTTONDOWN:\n",
    "        print(ptList)\n",
    "        avg_x = (ptList[0][0] + ptList[1][0]) / 2\n",
    "        avg_y = (ptList[0][1] + ptList[1][1]) / 2\n",
    "        pisteLines[pisteLineIdentifiers[curr]] = (avg_x, avg_y)\n",
    "        curr += 1\n",
    "        ptList.clear()\n",
    "\n",
    "cv2.imshow('WindowName', frame)\n",
    "cv2.setMouseCallback('WindowName', onMousePisteLines)\n",
    "\n",
    "while(1):\n",
    "    if cv2.waitKey(10) & 0xFF==ord('q'):\n",
    "        cv2.destroyAllWindows()\n",
    "        break\n",
    "        \n",
    "cap.release()\n",
    "cv2.destroyAllWindows()"
   ]
  },
  {
   "cell_type": "code",
   "execution_count": 5,
   "id": "3b2a9a6f",
   "metadata": {},
   "outputs": [
    {
     "data": {
      "text/plain": [
       "[{'image_id': '0.jpg',\n",
       "  'category_id': 1,\n",
       "  'keypoints': [316.565185546875,\n",
       "   177.12403869628906,\n",
       "   0.952835202217102,\n",
       "   316.565185546875,\n",
       "   164.49612426757812,\n",
       "   0.924065351486206,\n",
       "   310.2512512207031,\n",
       "   164.49612426757812,\n",
       "   0.9693357348442078,\n",
       "   266.0535583496094,\n",
       "   164.49612426757812,\n",
       "   0.7663102746009827,\n",
       "   272.3675231933594,\n",
       "   170.81008911132812,\n",
       "   0.9365411996841431,\n",
       "   196.60008239746094,\n",
       "   215.00775146484375,\n",
       "   0.9213711023330688,\n",
       "   253.4256591796875,\n",
       "   259.2054443359375,\n",
       "   0.8488119840621948,\n",
       "   139.77450561523438,\n",
       "   297.0891418457031,\n",
       "   0.9793621897697449,\n",
       "   234.48379516601562,\n",
       "   379.1705322265625,\n",
       "   0.7928688526153564,\n",
       "   196.60008239746094,\n",
       "   347.60076904296875,\n",
       "   0.8763632774353027,\n",
       "   259.7396240234375,\n",
       "   473.8798522949219,\n",
       "   0.9225308895111084,\n",
       "   183.97216796875,\n",
       "   404.4263610839844,\n",
       "   0.7753100991249084,\n",
       "   240.79776000976562,\n",
       "   423.36822509765625,\n",
       "   0.699519157409668,\n",
       "   190.2861328125,\n",
       "   543.3333129882812,\n",
       "   0.9207480549812317,\n",
       "   329.193115234375,\n",
       "   537.0194091796875,\n",
       "   0.8926168084144592,\n",
       "   183.97216796875,\n",
       "   688.5542602539062,\n",
       "   0.8736976385116577,\n",
       "   379.7047424316406,\n",
       "   675.9263305664062,\n",
       "   0.9314295649528503],\n",
       "  'score': 3.10490083694458,\n",
       "  'box': [130.95947265625,\n",
       "   96.93684387207031,\n",
       "   314.3858947753906,\n",
       "   646.548828125],\n",
       "  'idx': 7}]"
      ]
     },
     "execution_count": 5,
     "metadata": {},
     "output_type": "execute_result"
    }
   ],
   "source": [
    "data_by_frames[0]"
   ]
  },
  {
   "cell_type": "code",
   "execution_count": 6,
   "id": "bf833f1a",
   "metadata": {
    "scrolled": true
   },
   "outputs": [],
   "source": [
    "def average_keypoints(keypoints, confidence_threshold):\n",
    "    total_considered = 0\n",
    "    total_y = 0\n",
    "    total_x = 0\n",
    "    counter = 0\n",
    "    kx = 0\n",
    "    ky = 0\n",
    "    for count, kp in enumerate(keypoints):\n",
    "        if (count % 3 == 0):\n",
    "            kx = kp\n",
    "        elif (count % 3 == 1):\n",
    "            ky = kp\n",
    "        else:\n",
    "            if kp > confidence_threshold:\n",
    "                total_considered += 1\n",
    "                total_y += ky\n",
    "                total_x += kx\n",
    "            kx = 0\n",
    "            ky = 0\n",
    "    \n",
    "    average_y = total_y / total_considered\n",
    "    average_x = total_x / total_considered\n",
    "    \n",
    "    return average_x, average_y\n",
    "\n",
    "average_xy = []\n",
    "count = 0\n",
    "for i in data_by_frames:\n",
    "    idstr = i[0]['image_id'].split('.')[0]\n",
    "    while (count) < int(idstr):\n",
    "        average_xy.append(average_xy[-1])\n",
    "        count += 1\n",
    "    avg0_x, avg0_y = average_keypoints(i[0]['keypoints'], 0.1)\n",
    "    average_xy.append([avg0_x, avg0_y])\n",
    "    count += 1"
   ]
  },
  {
   "cell_type": "code",
   "execution_count": 7,
   "id": "db3e1bbf",
   "metadata": {
    "scrolled": false
   },
   "outputs": [],
   "source": [
    "import math\n",
    "\n",
    "def distCalc(pt1, pt2):\n",
    "    dis = math.sqrt((pt2[0]-pt1[0])**2 + (pt2[1]-pt1[1])**2)\n",
    "    return dis\n",
    "\n",
    "def calc_dist_from_4m(fencer):\n",
    "    # Negative if to the left of engarde, positive otherwise\n",
    "    if (fencer[0] < pisteLines['leftEngardeLine'][0]):\n",
    "        # Left side\n",
    "        distFromLeftEGLine = leftEngardeToLeftWarning * (fencer[0] - pisteLines['leftEngardeLine'][0])\n",
    "        return distFromLeftEGLine - 200\n",
    "    elif (fencer[0] < pisteLines['middleLines'][0]):\n",
    "        distFromMidLine = leftEnGardeToMid * (fencer[0] - pisteLines['middleLines'][0])\n",
    "        return distFromMidLine\n",
    "    elif (fencer[0] < pisteLines['rightEngardeLine'][0]):\n",
    "        distFromMidLine = rightEnGardeToMid * (fencer[0] - pisteLines['middleLines'][0])\n",
    "        return distFromMidLine\n",
    "    else:\n",
    "        distFromRightEGLine = rightEngardeToRightWarning * (fencer[0] - pisteLines['rightEngardeLine'][0])\n",
    "        return 200 + distFromRightEGLine"
   ]
  },
  {
   "cell_type": "code",
   "execution_count": 8,
   "id": "4f567f3d",
   "metadata": {},
   "outputs": [],
   "source": [
    "leftEnGardeToMid = 200 / distCalc(pisteLines['middleLines'], pisteLines['leftEngardeLine'])\n",
    "rightEnGardeToMid = 200 / distCalc(pisteLines['middleLines'], pisteLines['rightEngardeLine'])\n",
    "leftEngardeToLeftWarning = leftEnGardeToMid\n",
    "rightEngardeToRightWarning = rightEnGardeToMid"
   ]
  },
  {
   "cell_type": "code",
   "execution_count": 9,
   "id": "ba209054",
   "metadata": {},
   "outputs": [],
   "source": [
    "dist_from_4 = []\n",
    "for coord in average_xy:\n",
    "    dist_from_4.append(calc_dist_from_4m(coord))"
   ]
  },
  {
   "cell_type": "markdown",
   "id": "2e5a2b79",
   "metadata": {},
   "source": [
    "## Add distance measurement caption to video"
   ]
  },
  {
   "cell_type": "code",
   "execution_count": 10,
   "id": "e6909418",
   "metadata": {},
   "outputs": [
    {
     "name": "stdout",
     "output_type": "stream",
     "text": [
      "(1118.0, 652.0)\n",
      "(465.5, 688.5)\n",
      "(1690.0, 619.5)\n"
     ]
    }
   ],
   "source": [
    "for val in pisteLines.values():\n",
    "    print(val)"
   ]
  },
  {
   "cell_type": "code",
   "execution_count": 11,
   "id": "e4b27113",
   "metadata": {},
   "outputs": [
    {
     "name": "stdout",
     "output_type": "stream",
     "text": [
      "1920\n"
     ]
    }
   ],
   "source": [
    "import cv2\n",
    "import numpy as np\n",
    "\n",
    "cap = cv2.VideoCapture(\"AlphaPose_output.mp4\")\n",
    "frame_width = int(cap.get(3))\n",
    "frame_height = int(cap.get(4))\n",
    "\n",
    "fourcc = cv2.VideoWriter_fourcc(*'mp4v')\n",
    "out = cv2.VideoWriter('output.mp4',fourcc, 30, (frame_width,frame_height))   \n",
    "count = 0\n",
    "\n",
    "while(True):\n",
    "    ret, frame = cap.read()\n",
    "    try:\n",
    "        dist_str = str(dist_from_4[count]) + ' cm from mid'\n",
    "        x, y = average_xy[count]\n",
    "        x = math.floor(x)\n",
    "        y = math.floor(y)\n",
    "        coord = (x, y)\n",
    "    except:\n",
    "        dist_str = '0 cm from mid'\n",
    "        x, y = (50, 50)\n",
    "        coord = (x, y)\n",
    "        \n",
    "    if ret == True: \n",
    "        # Apply mask\n",
    "        strings = [\"0 cm\", \"-200 cm\", \"200 cm\"]\n",
    "        for iteration, val in enumerate(pisteLines.values()):\n",
    "            x1, y1 = val\n",
    "            x1 = int(x1)\n",
    "            y1 = int(y1)\n",
    "            frame = cv2.circle(frame, (x1,y1), 1, (0,0,255), 10)\n",
    "            frame = cv2.putText(frame, strings[iteration], (x1,y1), cv2.FONT_HERSHEY_SIMPLEX, 1, (255,255,255), 2, cv2.LINE_AA)\n",
    "        \n",
    "        frame = cv2.putText(frame, dist_str, coord, cv2.FONT_HERSHEY_SIMPLEX, 1, (255,255,255), 2, cv2.LINE_AA)\n",
    "        frame = cv2.line(frame, coord,(x, y + 400), (255,255,255), 2)\n",
    "        \n",
    "        # Write the frame into the file 'output.mp4'\n",
    "        out.write(frame)\n",
    "        \n",
    "        cv2.imwrite(f\"{count}output.jpg\", frame)\n",
    "        \n",
    "        # Display the resulting frame    \n",
    "        cv2.imshow('frame',frame)\n",
    "\n",
    "        # Press Q on keyboard to stop recording\n",
    "        if cv2.waitKey(1) & 0xFF == ord('q'):\n",
    "            break\n",
    "    else:\n",
    "        print(frame_width)\n",
    "        break\n",
    "    count += 1\n",
    " \n",
    "\n",
    "out.release()\n",
    "cap.release()\n",
    " \n",
    "# Closes all the frames\n",
    "cv2.destroyAllWindows()"
   ]
  },
  {
   "cell_type": "code",
   "execution_count": 12,
   "id": "a3251fa6",
   "metadata": {},
   "outputs": [
    {
     "data": {
      "text/plain": [
       "782"
      ]
     },
     "execution_count": 12,
     "metadata": {},
     "output_type": "execute_result"
    }
   ],
   "source": [
    "count"
   ]
  },
  {
   "cell_type": "code",
   "execution_count": 13,
   "id": "2014a743",
   "metadata": {},
   "outputs": [
    {
     "data": {
      "text/plain": [
       "781"
      ]
     },
     "execution_count": 13,
     "metadata": {},
     "output_type": "execute_result"
    }
   ],
   "source": [
    "len(average_xy)"
   ]
  },
  {
   "cell_type": "code",
   "execution_count": null,
   "id": "e55d6947",
   "metadata": {},
   "outputs": [],
   "source": []
  }
 ],
 "metadata": {
  "kernelspec": {
   "display_name": "Python 3 (ipykernel)",
   "language": "python",
   "name": "python3"
  },
  "language_info": {
   "codemirror_mode": {
    "name": "ipython",
    "version": 3
   },
   "file_extension": ".py",
   "mimetype": "text/x-python",
   "name": "python",
   "nbconvert_exporter": "python",
   "pygments_lexer": "ipython3",
   "version": "3.11.4"
  }
 },
 "nbformat": 4,
 "nbformat_minor": 5
}
